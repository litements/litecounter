{
 "cells": [
  {
   "cell_type": "code",
   "execution_count": null,
   "id": "typical-hobby",
   "metadata": {},
   "outputs": [],
   "source": [
    "%load_ext autoreload\n",
    "%autoreload 2"
   ]
  },
  {
   "cell_type": "code",
   "execution_count": null,
   "id": "compressed-oriental",
   "metadata": {},
   "outputs": [
    {
     "name": "stdout",
     "output_type": "stream",
     "text": [
      "\u001b[1mAll done! ✨ 🍰 ✨\u001b[0m\n",
      "1 file left unchanged.\u001b[0m\n"
     ]
    }
   ],
   "source": [
    "!black litecounter.py"
   ]
  },
  {
   "cell_type": "code",
   "execution_count": null,
   "id": "young-middle",
   "metadata": {},
   "outputs": [],
   "source": [
    "TEST_1 = \"key_test_1\"\n",
    "TEST_2 = \"key_test_2\""
   ]
  },
  {
   "cell_type": "code",
   "execution_count": null,
   "id": "different-tomorrow",
   "metadata": {},
   "outputs": [
    {
     "name": "stdout",
     "output_type": "stream",
     "text": [
      "SQLCounter(dbname=':memory:', items=[('key_test_2', 80), ('foo', 8), ('baz', 5), ('foobar', 6), ('key_test_1', 10)])\n"
     ]
    }
   ],
   "source": [
    "from litecounter import SQLCounter\n",
    "\n",
    "counter = SQLCounter(\":memory:\")\n",
    "\n",
    "# Increment from 0 to 20\n",
    "\n",
    "for _ in range(20):\n",
    "    counter.incr(TEST_1)\n",
    "    \n",
    "assert counter.count(TEST_1) == 20\n",
    "\n",
    "# Decrement 10 (from 20 to 10)\n",
    "\n",
    "for _ in range(10):\n",
    "    counter.decr(TEST_1)\n",
    "    \n",
    "assert counter.count(TEST_1) == 10\n",
    "\n",
    "# From 0 to -10, then -20.\n",
    "\n",
    "for _ in range(10):\n",
    "    counter.decr(TEST_2)\n",
    "    \n",
    "assert counter.count(TEST_2) == -10\n",
    "\n",
    "for _ in range(10):\n",
    "    counter.decr(TEST_2)\n",
    "    \n",
    "assert counter.count(TEST_2) == -20\n",
    "\n",
    "# Set fist key to 0.\n",
    "\n",
    "counter.zero(TEST_1)\n",
    "\n",
    "assert counter.count(TEST_1) == 0\n",
    "\n",
    "# Increment the second test key by 100, from -20 to 80.\n",
    "\n",
    "for _ in range(100):\n",
    "    counter.incr(TEST_2)\n",
    "    \n",
    "assert counter.count(TEST_2) == 80\n",
    "\n",
    "# Delete key works\n",
    "\n",
    "assert counter.count(TEST_1) == 0\n",
    "\n",
    "counter.delete(TEST_1)\n",
    "\n",
    "assert counter.count(TEST_1) is None\n",
    "\n",
    "# When the key does not exist, delete just ignores it\n",
    "\n",
    "counter.delete(\"foobar\")\n",
    "\n",
    "# Check `__repr__`\n",
    "\n",
    "import random\n",
    "\n",
    "for key in [\"foo\", \"bar\", \"baz\", \"foobar\", \"asd\", TEST_1]:\n",
    "    for _ in range(random.randint(0,10)):\n",
    "        counter.incr(key)\n",
    "\n",
    "print(counter)"
   ]
  }
 ],
 "metadata": {
  "kernelspec": {
   "display_name": "Python 3",
   "language": "python",
   "name": "python3"
  }
 },
 "nbformat": 4,
 "nbformat_minor": 5
}
